{
 "cells": [
  {
   "cell_type": "markdown",
   "metadata": {},
   "source": [
    "<img src=\"https://bit.ly/2VnXWr2\" width=\"100\" align=\"left\">"
   ]
  },
  {
   "cell_type": "markdown",
   "metadata": {},
   "source": [
    "# Temperature Sensor\n",
    "\n",
    "There is a temperature sensor in the processor of your company's server. The company wants to analyze the data provided by the sensor to decide if they should change the cooling system for a better one. As changing the cooling system is expensive and you are an excellent data analyst, you can't make a decision without basis.\n",
    "\n",
    "## Tools\n",
    "You don't necessarily need to use all the tools. Maybe you opt to use some of them or completely different ones, they are given to help you shape the exercise. Programming exercises can be solved in many different ways.\n",
    "1. Data structures: **lists**\n",
    "2. Loops: **list comprehension**\n",
    "3. Functions: **min, max, print, len**\n",
    "4. Conditional statements: **if-elif-else**\n",
    "\n",
    "## Tasks\n",
    "The temperatures measured throughout the 24 hours of a day are:"
   ]
  },
  {
   "cell_type": "code",
   "execution_count": null,
   "metadata": {},
   "outputs": [],
   "source": [
    "temperatures_C = [33, 66, 65, 0, 59, 60, 62, 64, 70, 76, 80, 81, 80, 83, 90, 79, 61, 53, 50, 49, 53, 48, 45, 39]"
   ]
  },
  {
   "cell_type": "markdown",
   "metadata": {},
   "source": [
    "The first element of the list is the temperature at 12am, the second element is the temperature at 1am, and so on. \n",
    "\n",
    "The company has decided that if one of the following events occurs, then the cooling system needs to be replaced for a new one to avoid damaging the processor.\n",
    "* More than 4 temperatures are greater than or equal to 70ºC.\n",
    "* Any temperature is above 80ºC.\n",
    "* The average temperature exceeds 65ºC.\n",
    "\n",
    "Follow the steps so that you can make the decision.\n",
    "\n",
    "#### 1. Find the minimum temperature of the day and store it in a variable."
   ]
  },
  {
   "cell_type": "code",
   "execution_count": 2,
   "metadata": {},
   "outputs": [
    {
     "name": "stdout",
     "output_type": "stream",
     "text": [
      "0\n"
     ]
    }
   ],
   "source": [
    "#Minimum temperature\n",
    "\n",
    "temperatures_C = [33, 66, 65, 0, 59, 60, 62, 64, 70, 76, 80, 81, 80, 83, 90, 79, 61, 53, 50, 49, 53, 48, 45, 39]\n",
    "\n",
    "minimal_temp_C = min(temperatures_C)\n",
    "\n",
    "print(minimal_temp_C)"
   ]
  },
  {
   "cell_type": "markdown",
   "metadata": {},
   "source": [
    "#### 2. Find the maximum temperature of the day and store it in a variable."
   ]
  },
  {
   "cell_type": "code",
   "execution_count": 3,
   "metadata": {},
   "outputs": [
    {
     "name": "stdout",
     "output_type": "stream",
     "text": [
      "90\n"
     ]
    }
   ],
   "source": [
    "#Maximum temperature\n",
    "\n",
    "temperatures_C = [33, 66, 65, 0, 59, 60, 62, 64, 70, 76, 80, 81, 80, 83, 90, 79, 61, 53, 50, 49, 53, 48, 45, 39]\n",
    "\n",
    "maximum_temp_C = max(temperatures_C)\n",
    "\n",
    "print(maximum_temp_C)"
   ]
  },
  {
   "cell_type": "markdown",
   "metadata": {},
   "source": [
    "#### 3. Create a list with the temperatures that are greater than or equal to 70ºC. Store it in a variable."
   ]
  },
  {
   "cell_type": "code",
   "execution_count": 21,
   "metadata": {},
   "outputs": [
    {
     "name": "stdout",
     "output_type": "stream",
     "text": [
      "[70, 76, 80, 81, 80, 83, 90, 79]\n"
     ]
    }
   ],
   "source": [
    "temperatures_C = [33, 66, 65, 0, 59, 60, 62, 64, 70, 76, 80, 81, 80, 83, 90, 79, 61, 53, 50, 49, 53, 48, 45, 39]\n",
    "\n",
    "temperatures_seventy = []\n",
    "\n",
    "for n in temperatures_C: \n",
    "    if n > 70:\n",
    "        temperatures_seventy.append(n)\n",
    "    if n == 70:\n",
    "        temperatures_seventy.append(n)\n",
    "\n",
    "print(temperatures_seventy)\n"
   ]
  },
  {
   "cell_type": "markdown",
   "metadata": {},
   "source": [
    "#### 4. Find the average temperature of the day and store it in a variable."
   ]
  },
  {
   "cell_type": "code",
   "execution_count": 4,
   "metadata": {},
   "outputs": [
    {
     "name": "stdout",
     "output_type": "stream",
     "text": [
      "60.25\n"
     ]
    }
   ],
   "source": [
    "temperatures_C = [33, 66, 65, 0, 59, 60, 62, 64, 70, 76, 80, 81, 80, 83, 90, 79, 61, 53, 50, 49, 53, 48, 45, 39]\n",
    "\n",
    "average_temp_day = sum(temperatures_C)/len(temperatures_C)\n",
    "\n",
    "print(average_temp_day)"
   ]
  },
  {
   "cell_type": "markdown",
   "metadata": {},
   "source": [
    "#### 5. Imagine that there was a sensor failure at 3am and the data for that specific hour was not recorded. How would you estimate the missing value? Replace the current value of the list at 3am for an estimation. "
   ]
  },
  {
   "cell_type": "code",
   "execution_count": 25,
   "metadata": {},
   "outputs": [
    {
     "name": "stdout",
     "output_type": "stream",
     "text": [
      "[33, 66, 65, 60, 59, 60, 62, 64, 70, 76, 80, 81, 80, 83, 90, 79, 61, 53, 50, 49, 53, 48, 45, 39]\n"
     ]
    }
   ],
   "source": [
    "#Estimating the missing value can be done by mode/mean/\n",
    "temperatures_C = [33, 66, 65, 0, 59, 60, 62, 64, 70, 76, 80, 81, 80, 83, 90, 79, 61, 53, 50, 49, 53, 48, 45, 39]\n",
    "\n",
    "average_temp_day = int(sum(temperatures_C)/len(temperatures_C))\n",
    "\n",
    "temperatures_C.remove(temperatures_C[3])\n",
    "temperatures_C.insert(3, average_temp_day)\n",
    "print(temperatures_C)\n",
    "\n"
   ]
  },
  {
   "cell_type": "markdown",
   "metadata": {},
   "source": [
    "#### 6. Bonus: the maintenance staff is from the United States and does not understand the international metric system. Help them by converting the temperatures from Celsius to Fahrenheit.\n",
    "To know more about temperature conversion check this [link](https://en.wikipedia.org/wiki/Conversion_of_units_of_temperature).\n",
    "\n",
    "**Formula**: \n",
    "\n",
    "$F = 1.8 * C + 32$"
   ]
  },
  {
   "cell_type": "code",
   "execution_count": 7,
   "metadata": {},
   "outputs": [
    {
     "name": "stdout",
     "output_type": "stream",
     "text": [
      "[91.4, 150.8, 149.0, 32.0, 138.2, 140.0, 143.60000000000002, 147.2, 158.0, 168.8, 176.0, 177.8, 176.0, 181.4, 194.0, 174.20000000000002, 141.8, 127.4, 122.0, 120.2, 127.4, 118.4, 113.0, 102.2]\n"
     ]
    }
   ],
   "source": [
    "temperatures_C = [33, 66, 65, 0, 59, 60, 62, 64, 70, 76, 80, 81, 80, 83, 90, 79, 61, 53, 50, 49, 53, 48, 45, 39]\n",
    "\n",
    "temperatures_F = []\n",
    "\n",
    "for n in temperatures_C:\n",
    "    fahrenheit = (1.8*n) + 32\n",
    "    temperatures_F.append(fahrenheit)\n",
    "\n",
    "print(temperatures_F)\n",
    "    \n",
    "    "
   ]
  },
  {
   "cell_type": "markdown",
   "metadata": {},
   "source": [
    "#### 7. Make a decision!\n",
    "Now it's time to make a decision taking into account what you have seen until now. \n",
    "\n",
    "Remember that if one of the following events occurs, then the cooling system needs to be replaced for a new one to avoid damaging the processor.\n",
    "* More than 4 temperatures are greater than or equal to 70ºC.\n",
    "* Any temperature is above 80ºC.\n",
    "* The average temperature exceeds 65ºC.\n",
    "\n",
    "#### To make your decision, check if any of the three conditions above is met. You might need to use some of the variables you created in steps 1 to 6. Print a message to show if the cooling system needs to be changed or not."
   ]
  },
  {
   "cell_type": "code",
   "execution_count": 30,
   "metadata": {},
   "outputs": [
    {
     "name": "stdout",
     "output_type": "stream",
     "text": [
      "Cooling system needs to be changed!\n"
     ]
    }
   ],
   "source": [
    "temperatures_C = [33, 66, 65, 0, 59, 60, 62, 64, 70, 76, 80, 81, 80, 83, 90, 79, 61, 53, 50, 49, 53, 48, 45, 39]\n",
    "\n",
    "average_temp_day = sum(temperatures_C)/len(temperatures_C)\n",
    "\n",
    "temperatures_seventy = []\n",
    "\n",
    "for n in temperatures_C: \n",
    "    if n > 70:\n",
    "        temperatures_seventy.append(n)\n",
    "    if n == 70:\n",
    "        temperatures_seventy.append(n)\n",
    "\n",
    "if (len(temperatures_seventy) > 4)|(n > 80)|(average_temp_day > 65):   \n",
    "        print(\"Cooling system needs to be changed!\")\n",
    "    \n",
    "else:\n",
    "    print(\"Cooling system is fine, no worries!\")"
   ]
  },
  {
   "cell_type": "markdown",
   "metadata": {},
   "source": [
    "## Bonus\n",
    "\n",
    "The company has decided that the decision you made is not valid. They want you to analyze the data again but this time, the conditions that need to be met in order to change the cooling system are different.\n",
    "\n",
    "This time, if one of the following events occurs, then the cooling system needs to be replaced:\n",
    "* The temperature is greater than 70ºC during more than 4 consecutive hours.\n",
    "* Any temperature is above 80ºC.\n",
    "* The average temperature exceeds 65ºC.\n",
    "\n",
    "Follow the steps so that you can make the decision.\n",
    "\n",
    "#### 1. Create a list with the hours where the temperature is greater than 70ºC. Store it in a variable."
   ]
  },
  {
   "cell_type": "code",
   "execution_count": 44,
   "metadata": {},
   "outputs": [
    {
     "name": "stdout",
     "output_type": "stream",
     "text": [
      "[9, 10, 11, 10, 13, 14, 15]\n"
     ]
    }
   ],
   "source": [
    "temperatures_C = [33, 66, 65, 0, 59, 60, 62, 64, 70, 76, 80, 81, 80, 83, 90, 79, 61, 53, 50, 49, 53, 48, 45, 39]\n",
    "\n",
    "temp_seventy_hour = []\n",
    "\n",
    "for n in temperatures_C:\n",
    "    hour = temperatures_C.index(n)\n",
    "    if n > 70:\n",
    "        temp_seventy_hour.append(hour)\n",
    "\n",
    "print(temp_seventy_hour)\n",
    "\n",
    "#I don´t get the correct answer, because for the duplicate nr 80, it takes the first index again. Don´t know how to remove.\n"
   ]
  },
  {
   "cell_type": "markdown",
   "metadata": {},
   "source": [
    "#### 2. Check if the list you created in step 1 has more than 4 consecutive hours. "
   ]
  },
  {
   "cell_type": "code",
   "execution_count": 2,
   "metadata": {},
   "outputs": [
    {
     "name": "stdout",
     "output_type": "stream",
     "text": [
      "[9, 10, 11, 10, 13, 14, 15]\n",
      "[0, 1, 4, 5]\n"
     ]
    }
   ],
   "source": [
    "temperatures_C = [33, 66, 65, 0, 59, 60, 62, 64, 70, 76, 80, 81, 80, 83, 90, 79, 61, 53, 50, 49, 53, 48, 45, 39]\n",
    "\n",
    "temp_seventy_hour = []\n",
    "\n",
    "for n in temperatures_C:\n",
    "    hour = temperatures_C.index(n)\n",
    "    if n > 70:\n",
    "        temp_seventy_hour.append(hour)\n",
    "\n",
    "print(temp_seventy_hour)\n",
    "\n",
    "consec_hours=[]\n",
    "        \n",
    "for i in range(len(temp_seventy_hour)-1):  \n",
    "    if temp_seventy_hour[i]+1==temp_seventy_hour[i+1]:\n",
    "        consec_hours.append(i)\n",
    "\n",
    "print(consec_hours)\n",
    "\n"
   ]
  },
  {
   "cell_type": "markdown",
   "metadata": {},
   "source": [
    "#### 3. Make the decision!\n",
    "To make your decision, check if any of the three conditions is met. Print a message to show if the cooling system needs to be changed or not."
   ]
  },
  {
   "cell_type": "code",
   "execution_count": 7,
   "metadata": {},
   "outputs": [
    {
     "name": "stdout",
     "output_type": "stream",
     "text": [
      "60.25\n",
      "Cooling system is fine, no worries!\n"
     ]
    }
   ],
   "source": [
    "#this exercise is giving me the wrong outcome, but I don´t know why.\n",
    "\n",
    "temperatures_C = [33, 66, 65, 0, 59, 60, 62, 64, 70, 76, 80, 81, 80, 83, 90, 79, 61, 53, 50, 49, 53, 48, 45, 39]\n",
    "\n",
    "average_temp_day = sum(temperatures_C)/len(temperatures_C)\n",
    "print(average_temp_day)\n",
    "\n",
    "temp_seventy_hour = []\n",
    "\n",
    "for n in temperatures_C:\n",
    "    hour = temperatures_C.index(n)\n",
    "    if n > 70:\n",
    "        temp_seventy_hour.append(hour)\n",
    "\n",
    "consec_hours=[]\n",
    "        \n",
    "for i in range(len(temp_seventy_hour)-1):  \n",
    "    value = temp_seventy_hour[i]+1==temp_seventy_hour[i+1]\n",
    "    if temp_seventy_hour[i]+1==temp_seventy_hour[i+1]:\n",
    "        consec_hours.append(value)\n",
    "    \n",
    "if (len(consec_hours) > 4)|(n > 80)|(average_temp_day > 65):   \n",
    "    print(\"Cooling system needs to be changed!\")\n",
    "    \n",
    "else:\n",
    "    print(\"Cooling system is fine, no worries!\")"
   ]
  },
  {
   "cell_type": "markdown",
   "metadata": {},
   "source": [
    "#### 4. Find the average value of the temperature lists (ºC and ºF). What is the relation between both average values?"
   ]
  },
  {
   "cell_type": "code",
   "execution_count": 46,
   "metadata": {},
   "outputs": [
    {
     "name": "stdout",
     "output_type": "stream",
     "text": [
      "60.25\n",
      "140.45\n"
     ]
    }
   ],
   "source": [
    "temperatures_C = [33, 66, 65, 0, 59, 60, 62, 64, 70, 76, 80, 81, 80, 83, 90, 79, 61, 53, 50, 49, 53, 48, 45, 39]\n",
    "\n",
    "average_temp_day_C = sum(temperatures_C)/len(temperatures_C)\n",
    "\n",
    "temperatures_F = []\n",
    "\n",
    "for n in temperatures_C:\n",
    "    fahrenheit = (1.8*n) + 32\n",
    "    temperatures_F.append(fahrenheit)\n",
    "\n",
    "average_temp_day_F = sum(temperatures_F)/len(temperatures_F)    \n",
    "\n",
    "print(average_temp_day_C)\n",
    "print(average_temp_day_F)\n",
    "\n",
    "#relation between both values is that average_temp_day_F = (1.8 * average_temp_day_C) + 32"
   ]
  },
  {
   "cell_type": "markdown",
   "metadata": {},
   "source": [
    "#### 5. Find the standard deviation of the temperature lists (ºC and ºF). What is the relation between both standard deviations?"
   ]
  },
  {
   "cell_type": "code",
   "execution_count": 12,
   "metadata": {},
   "outputs": [
    {
     "name": "stdout",
     "output_type": "stream",
     "text": [
      "[91.4, 150.8, 149.0, 32.0, 138.2, 140.0, 143.60000000000002, 147.2, 158.0, 168.8, 176.0, 177.8, 176.0, 181.4, 194.0, 174.20000000000002, 141.8, 127.4, 122.0, 120.2, 127.4, 118.4, 113.0, 102.2]\n"
     ]
    },
    {
     "data": {
      "text/plain": [
       "35.46085410580297"
      ]
     },
     "execution_count": 12,
     "metadata": {},
     "output_type": "execute_result"
    }
   ],
   "source": [
    "temperatures_C = [33, 66, 65, 0, 59, 60, 62, 64, 70, 76, 80, 81, 80, 83, 90, 79, 61, 53, 50, 49, 53, 48, 45, 39]\n",
    "\n",
    "temperatures_F = []\n",
    "\n",
    "for n in temperatures_C:\n",
    "    fahrenheit = (1.8*n) + 32\n",
    "    temperatures_F.append(fahrenheit)\n",
    "\n",
    "statistics.stdev(temperatures_C)\n",
    "\n",
    "#st dev. of temperatures_C = 19.700474503223873\n",
    "\n",
    "print(temperatures_F)\n",
    "\n",
    "import statistics\n",
    "statistics.stdev(temperatures_F)\n",
    "\n",
    "#st dev. of temperatures_F = 35.46085410580297\n",
    "#the standard deviation of temperature in Fahrenheit is exactly 1.8 * standard deviation or temperature in Celsius\n",
    "\n",
    "\n"
   ]
  },
  {
   "cell_type": "code",
   "execution_count": null,
   "metadata": {},
   "outputs": [],
   "source": []
  }
 ],
 "metadata": {
  "kernelspec": {
   "display_name": "Python 3",
   "language": "python",
   "name": "python3"
  },
  "language_info": {
   "codemirror_mode": {
    "name": "ipython",
    "version": 3
   },
   "file_extension": ".py",
   "mimetype": "text/x-python",
   "name": "python",
   "nbconvert_exporter": "python",
   "pygments_lexer": "ipython3",
   "version": "3.7.4"
  }
 },
 "nbformat": 4,
 "nbformat_minor": 2
}
